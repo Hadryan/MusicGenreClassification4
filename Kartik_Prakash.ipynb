{
 "cells": [
  {
   "cell_type": "markdown",
   "metadata": {},
   "source": [
    "# Music Genre Classification"
   ]
  },
  {
   "cell_type": "markdown",
   "metadata": {},
   "source": [
    "Members - Kartik Prakash, Imane Rifki, Shubham Bharadwaj\n",
    "\n",
    "Classification of music into their genre will help to limit the music to the choice of the listener. It can be used for recommendation purposes as well. Music genres are hard to systematically and consistently describe due to their inherent subjective nature.\n",
    "We will be increasing dataset by downloading more audio tracks which are already classified on the basis of genre. For now we plan to use k-Nearest Neighbors Algorithm but we also gonna compare it to other algorithms in order to find the most suitable one.\n"
   ]
  },
  {
   "cell_type": "code",
   "execution_count": 1,
   "metadata": {
    "collapsed": false
   },
   "outputs": [
    {
     "name": "stdout",
     "output_type": "stream",
     "text": [
      "Data Shape, number of instances and number of features\n",
      "(2530, 5)\n",
      "Target Array:\n",
      "(2530,)\n"
     ]
    }
   ],
   "source": [
    "import numpy as np\n",
    "from sklearn.model_selection import train_test_split\n",
    "import plotly\n",
    "import plotly.plotly as py\n",
    "from plotly.offline import download_plotlyjs, init_notebook_mode, plot, iplot\n",
    "from plotly.tools import FigureFactory as FF \n",
    "\n",
    "data = np.load('Data_Data_Matrix.npy').item() # loading pre-processed data from the file\n",
    "target_domain=list(data.keys())\n",
    "target_domain\n",
    "data_formated=[]\n",
    "target=[]\n",
    "ctr=0\n",
    "for genre in target_domain: #Creating Target domain\n",
    "    for song in data[genre]:\n",
    "        if genre == \"classical\":\n",
    "            data_formated.append(song)\n",
    "            target.append('classical')\n",
    "        elif genre == \"jazz\":\n",
    "            data_formated.append(song)\n",
    "            target.append('jazz')\n",
    "        elif genre == \"metal\":\n",
    "            data_formated.append(song)\n",
    "            target.append('metal')\n",
    "        elif genre == \"pop\":\n",
    "            data_formated.append(song)\n",
    "            target.append('pop')\n",
    "\n",
    "X=np.array(data_formated)  \n",
    "Y=np.array(target)\n",
    "\n",
    "print(\"Data Shape, number of instances and number of features\")\n",
    "#printing data shape\n",
    "print(X.shape) \n",
    "print(\"Target Array:\")\n",
    "#printing shape of the target array\n",
    "print(Y.shape) "
   ]
  },
  {
   "cell_type": "code",
   "execution_count": 2,
   "metadata": {
    "collapsed": false
   },
   "outputs": [],
   "source": [
    "#splitting of data\n",
    "X_train, X_test, y_train, y_test = train_test_split(X, Y, test_size=0.25, random_state=1) "
   ]
  },
  {
   "cell_type": "markdown",
   "metadata": {
    "collapsed": false
   },
   "source": [
    "# Performance"
   ]
  },
  {
   "cell_type": "markdown",
   "metadata": {
    "collapsed": false
   },
   "source": [
    "K-Nearest Neighbours. Scoring metrics : Accuracy,f1_Weighted,Recall_weighted"
   ]
  },
  {
   "cell_type": "markdown",
   "metadata": {},
   "source": [
    "Neural Networks. Scoring metrics: Accuracy and Log-Loss"
   ]
  },
  {
   "cell_type": "code",
   "execution_count": 3,
   "metadata": {
    "collapsed": false,
    "scrolled": false
   },
   "outputs": [
    {
     "name": "stdout",
     "output_type": "stream",
     "text": [
      "KNN with different parameters\n"
     ]
    },
    {
     "data": {
      "text/html": [
       "<iframe id=\"igraph\" scrolling=\"no\" style=\"border:none;\" seamless=\"seamless\" src=\"https://plot.ly/~irifiki/2.embed\" height=\"410px\" width=\"100%\"></iframe>"
      ],
      "text/plain": [
       "<plotly.tools.PlotlyDisplay object>"
      ]
     },
     "execution_count": 3,
     "metadata": {},
     "output_type": "execute_result"
    }
   ],
   "source": [
    "from sklearn.neighbors import KNeighborsClassifier\n",
    "from sklearn.model_selection import cross_val_score\n",
    "import warnings\n",
    "warnings.filterwarnings('ignore')\n",
    "\n",
    "knn1 = KNeighborsClassifier(n_neighbors=5)\n",
    "knn2 = KNeighborsClassifier(n_neighbors=10)\n",
    "knn3 = KNeighborsClassifier(n_neighbors=20)\n",
    "knn4 = KNeighborsClassifier(n_neighbors=30)\n",
    "knn5 = KNeighborsClassifier(n_neighbors=40)\n",
    "knn6 = KNeighborsClassifier(n_neighbors=50)\n",
    "knn7 = KNeighborsClassifier(n_neighbors=45)\n",
    "knn8 = KNeighborsClassifier(n_neighbors=42)\n",
    "knn9 = KNeighborsClassifier(n_neighbors=43)\n",
    "knn10 = KNeighborsClassifier(n_neighbors=42,weights='distance')\n",
    "knn11 = KNeighborsClassifier(n_neighbors=45,weights='distance')\n",
    "knn11 = KNeighborsClassifier(n_neighbors=40,weights='distance')\n",
    "\n",
    "knn1.fit(X_train, y_train) \n",
    "knn2.fit(X_train, y_train) \n",
    "knn3.fit(X_train, y_train) \n",
    "knn4.fit(X_train, y_train) \n",
    "knn5.fit(X_train, y_train) \n",
    "knn6.fit(X_train, y_train) \n",
    "knn7.fit(X_train, y_train) \n",
    "knn8.fit(X_train, y_train) \n",
    "knn9.fit(X_train, y_train) \n",
    "knn10.fit(X_train, y_train) \n",
    "knn11.fit(X_train, y_train) \n",
    "\n",
    "scores_knn1=cross_val_score(knn1,X_test,y_test,cv=10,scoring='accuracy')\n",
    "scores_knn2=cross_val_score(knn2,X_test,y_test,cv=10,scoring='accuracy')\n",
    "scores_knn3=cross_val_score(knn3,X_test,y_test,cv=10,scoring='accuracy')\n",
    "scores_knn4=cross_val_score(knn4,X_test,y_test,cv=10,scoring='accuracy')\n",
    "scores_knn5=cross_val_score(knn5,X_test,y_test,cv=10,scoring='accuracy')\n",
    "scores_knn6=cross_val_score(knn6,X_test,y_test,cv=10,scoring='accuracy')\n",
    "scores_knn7=cross_val_score(knn7,X_test,y_test,cv=10,scoring='accuracy')\n",
    "scores_knn8=cross_val_score(knn8,X_test,y_test,cv=10,scoring='accuracy')\n",
    "scores_knn9=cross_val_score(knn9,X_test,y_test,cv=10,scoring='accuracy')\n",
    "scores_knn10=cross_val_score(knn10,X_test,y_test,cv=10,scoring='accuracy')\n",
    "scores_knn11=cross_val_score(knn11,X_test,y_test,cv=10,scoring='accuracy')\n",
    "\n",
    "scores_knn1_f1_weighted=cross_val_score(knn1,X_test,y_test,cv=10,scoring='f1_weighted')\n",
    "scores_knn2_f1_weighted=cross_val_score(knn2,X_test,y_test,cv=10,scoring='f1_weighted')\n",
    "scores_knn3_f1_weighted=cross_val_score(knn3,X_test,y_test,cv=10,scoring='f1_weighted')\n",
    "scores_knn4_f1_weighted=cross_val_score(knn4,X_test,y_test,cv=10,scoring='f1_weighted')\n",
    "scores_knn5_f1_weighted=cross_val_score(knn5,X_test,y_test,cv=10,scoring='f1_weighted')\n",
    "scores_knn6_f1_weighted=cross_val_score(knn6,X_test,y_test,cv=10,scoring='f1_weighted')\n",
    "scores_knn7_f1_weighted=cross_val_score(knn7,X_test,y_test,cv=10,scoring='f1_weighted')\n",
    "scores_knn8_f1_weighted=cross_val_score(knn8,X_test,y_test,cv=10,scoring='f1_weighted')\n",
    "scores_knn9_f1_weighted=cross_val_score(knn9,X_test,y_test,cv=10,scoring='f1_weighted')\n",
    "scores_knn10_f1_weighted=cross_val_score(knn10,X_test,y_test,cv=10,scoring='f1_weighted')\n",
    "scores_knn11_f1_weighted=cross_val_score(knn11,X_test,y_test,cv=10,scoring='f1_weighted')\n",
    "\n",
    "scores_knn1_recall_weighted=cross_val_score(knn1,X_test,y_test,cv=10,scoring='recall_weighted')\n",
    "scores_knn2_recall_weighted=cross_val_score(knn2,X_test,y_test,cv=10,scoring='recall_weighted')\n",
    "scores_knn3_recall_weighted=cross_val_score(knn3,X_test,y_test,cv=10,scoring='recall_weighted')\n",
    "scores_knn4_recall_weighted=cross_val_score(knn4,X_test,y_test,cv=10,scoring='recall_weighted')\n",
    "scores_knn5_recall_weighted=cross_val_score(knn5,X_test,y_test,cv=10,scoring='recall_weighted')\n",
    "scores_knn6_recall_weighted=cross_val_score(knn6,X_test,y_test,cv=10,scoring='recall_weighted')\n",
    "scores_knn7_recall_weighted=cross_val_score(knn7,X_test,y_test,cv=10,scoring='recall_weighted')\n",
    "scores_knn8_recall_weighted=cross_val_score(knn8,X_test,y_test,cv=10,scoring='recall_weighted')\n",
    "scores_knn9_recall_weighted=cross_val_score(knn9,X_test,y_test,cv=10,scoring='recall_weighted')\n",
    "scores_knn10_recall_weighted=cross_val_score(knn10,X_test,y_test,cv=10,scoring='recall_weighted')\n",
    "scores_knn11_recall_weighted=cross_val_score(knn11,X_test,y_test,cv=10,scoring='recall_weighted')\n",
    "\n",
    "\n",
    "#print(np.mean(scores11))\n",
    "#split(\"(knn10.get_params)\",\"(\")[0]\n",
    "print (\"KNN with different parameters\")\n",
    "data_matrix = [['n_neighbors', 'weights', 'algorithm','leaf_size','p','metric','metric_params','n_jobs','Accuracy','Precision','Recall'],\n",
    "               [knn1.get_params()['n_neighbors'], knn1.get_params()['weights'], knn1.get_params()['algorithm'],knn1.get_params()['leaf_size'],knn1.get_params()['p'],knn1.get_params()['metric'],knn1.get_params()['metric_params'],knn1.get_params()['n_jobs'],\"%0.4f\"%np.mean(scores_knn1),\"%0.3f\"%np.mean(scores_knn1_f1_weighted),\"%0.3f\"%np.mean(scores_knn1_recall_weighted)],\n",
    "               [knn2.get_params()['n_neighbors'], knn2.get_params()['weights'], knn2.get_params()['algorithm'],knn2.get_params()['leaf_size'],knn2.get_params()['p'],knn1.get_params()['metric'],knn2.get_params()['metric_params'],knn2.get_params()['n_jobs'],\"%0.4f\"%np.mean(scores_knn2),\"%0.3f\"%np.mean(scores_knn2_f1_weighted),\"%0.3f\"%np.mean(scores_knn2_recall_weighted)],\n",
    "               [knn3.get_params()['n_neighbors'], knn3.get_params()['weights'], knn3.get_params()['algorithm'],knn3.get_params()['leaf_size'],knn3.get_params()['p'],knn1.get_params()['metric'],knn3.get_params()['metric_params'],knn3.get_params()['n_jobs'],\"%0.4f\"%np.mean(scores_knn3), \"%0.3f\"%np.mean(scores_knn3_f1_weighted),\"%0.3f\"%np.mean(scores_knn3_recall_weighted)],\n",
    "               [knn4.get_params()['n_neighbors'], knn4.get_params()['weights'], knn4.get_params()['algorithm'],knn4.get_params()['leaf_size'],knn4.get_params()['p'],knn1.get_params()['metric'],knn4.get_params()['metric_params'],knn4.get_params()['n_jobs'],\"%0.4f\"%np.mean(scores_knn4),\"%0.3f\"%np.mean(scores_knn4_f1_weighted),\"%0.3f\"%np.mean(scores_knn4_recall_weighted)],\n",
    "               [knn5.get_params()['n_neighbors'], knn5.get_params()['weights'], knn5.get_params()['algorithm'],knn5.get_params()['leaf_size'],knn5.get_params()['p'],knn1.get_params()['metric'],knn5.get_params()['metric_params'],knn5.get_params()['n_jobs'],\"%0.4f\"%np.mean(scores_knn5), \"%0.3f\"%np.mean(scores_knn5_f1_weighted),\"%0.3f\"%np.mean(scores_knn5_recall_weighted)],\n",
    "               [knn6.get_params()['n_neighbors'], knn6.get_params()['weights'], knn6.get_params()['algorithm'],knn6.get_params()['leaf_size'],knn6.get_params()['p'],knn1.get_params()['metric'],knn6.get_params()['metric_params'],knn6.get_params()['n_jobs'],\"%0.4f\"%np.mean(scores_knn6), \"%0.3f\"%np.mean(scores_knn6_f1_weighted),\"%0.3f\"%np.mean(scores_knn6_recall_weighted)],\n",
    "              [knn7.get_params()['n_neighbors'], knn7.get_params()['weights'], knn7.get_params()['algorithm'],knn7.get_params()['leaf_size'],knn7.get_params()['p'],knn1.get_params()['metric'],knn7.get_params()['metric_params'],knn7.get_params()['n_jobs'],\"%0.4f\"%np.mean(scores_knn7), \"%0.3f\"%np.mean(scores_knn7_f1_weighted),\"%0.3f\"%np.mean(scores_knn7_recall_weighted)],\n",
    "              [knn8.get_params()['n_neighbors'], knn8.get_params()['weights'], knn8.get_params()['algorithm'],knn8.get_params()['leaf_size'],knn8.get_params()['p'],knn1.get_params()['metric'],knn8.get_params()['metric_params'],knn8.get_params()['n_jobs'],\"%0.4f\"%np.mean(scores_knn8), \"%0.3f\"%np.mean(scores_knn8_f1_weighted),\"%0.3f\"%np.mean(scores_knn8_recall_weighted)],\n",
    "              [knn9.get_params()['n_neighbors'], knn9.get_params()['weights'], knn9.get_params()['algorithm'],knn9.get_params()['leaf_size'],knn9.get_params()['p'],knn1.get_params()['metric'],knn9.get_params()['metric_params'],knn9.get_params()['n_jobs'],\"%0.4f\"%np.mean(scores_knn9), \"%0.3f\"%np.mean(scores_knn9_f1_weighted),\"%0.3f\"%np.mean(scores_knn9_recall_weighted)],\n",
    "              [knn10.get_params()['n_neighbors'], knn10.get_params()['weights'], knn10.get_params()['algorithm'],knn10.get_params()['leaf_size'],knn10.get_params()['p'],knn1.get_params()['metric'],knn10.get_params()['metric_params'],knn10.get_params()['n_jobs'],\"%0.4f\"%np.mean(scores_knn10), \"%0.3f\"%np.mean(scores_knn10_f1_weighted),\"%0.3f\"%np.mean(scores_knn10_recall_weighted)],\n",
    "              [knn11.get_params()['n_neighbors'], knn11.get_params()['weights'], knn11.get_params()['algorithm'],knn11.get_params()['leaf_size'],knn11.get_params()['p'],knn1.get_params()['metric'],knn11.get_params()['metric_params'],knn11.get_params()['n_jobs'],\"%0.4f\"%np.mean(scores_knn11), \"%0.3f\"%np.mean(scores_knn11_f1_weighted),\"%0.3f\"%np.mean(scores_knn11_recall_weighted)]]\n",
    "\n",
    "table = FF.create_table(data_matrix)\n",
    "py.iplot(table)"
   ]
  },
  {
   "cell_type": "markdown",
   "metadata": {},
   "source": [
    "Neural Network"
   ]
  },
  {
   "cell_type": "code",
   "execution_count": 4,
   "metadata": {
    "collapsed": false
   },
   "outputs": [],
   "source": [
    "from sklearn.neural_network import MLPClassifier\n",
    "from sklearn.model_selection import cross_val_score\n",
    "#clf = MLPClassifier(solver='lbfgs', alpha=1e-5,hidden_layer_sizes=(100, 50), random_state=1,learning_rate='adaptive')\n",
    "clf1=MLPClassifier(hidden_layer_sizes=(5, 5), \n",
    "                  activation='logistic',random_state=1, learning_rate='constant',solver='adam',max_iter=999 )\n",
    "clf2=MLPClassifier(hidden_layer_sizes=(10, 5), \n",
    "                  activation='logistic',random_state=1, learning_rate='constant',solver='sgd',max_iter=999)\n",
    "clf3=MLPClassifier(hidden_layer_sizes=(20, 3), \n",
    "                  activation='tanh',random_state=1, learning_rate='constant',solver='lbfgs',max_iter=999)\n",
    "\n",
    "clf4=MLPClassifier(hidden_layer_sizes=(30, 5), \n",
    "                  activation='logistic',random_state=1, learning_rate='adaptive',solver='sgd',max_iter=999)\n",
    "\n",
    "clf5=MLPClassifier(hidden_layer_sizes=(40, 8), \n",
    "                  activation='logistic',random_state=1, learning_rate='adaptive',solver='sgd',max_iter=999)\n",
    "\n",
    "clf6=MLPClassifier(hidden_layer_sizes=(100, 5), \n",
    "                  activation='tanh',random_state=1, learning_rate='invscaling',solver='lbfgs',max_iter=999)\n",
    "\n",
    "clf7=MLPClassifier(hidden_layer_sizes=(200, 6), \n",
    "                  activation='logistic',random_state=1, learning_rate='constant',solver='lbfgs',max_iter=999)\n",
    "\n",
    "clf8=MLPClassifier(hidden_layer_sizes=(300, 10), \n",
    "                  activation='tanh', learning_rate='constant',solver='adam',max_iter=999)\n",
    "\n",
    "clf9=MLPClassifier(hidden_layer_sizes=(500, 20), \n",
    "                  activation='logistic',random_state=1, learning_rate='invscaling',solver='adam',max_iter=999)\n",
    "\n",
    "clf1.fit(X_train, y_train)\n",
    "clf2.fit(X_train, y_train)                         \n",
    "clf3.fit(X_train, y_train)                         \n",
    "clf4.fit(X_train, y_train)                         \n",
    "                        \n",
    "scores1_accuracy=cross_val_score(clf1,X_test,y_test,cv=10,scoring='accuracy')\n",
    "scores2_accuracy=cross_val_score(clf2,X_test,y_test,cv=10,scoring='accuracy')\n",
    "scores3_accuracy=cross_val_score(clf3,X_test,y_test,cv=10,scoring='accuracy')\n",
    "scores4_accuracy=cross_val_score(clf4,X_test,y_test,cv=10,scoring='accuracy')\n",
    "\n",
    "scores1_log_loss=cross_val_score(clf1,X_test,y_test,cv=10,scoring='log_loss')\n",
    "scores2_log_loss=cross_val_score(clf2,X_test,y_test,cv=10,scoring='log_loss')\n",
    "scores3_log_loss=cross_val_score(clf3,X_test,y_test,cv=10,scoring='log_loss')\n",
    "scores4_log_loss=cross_val_score(clf4,X_test,y_test,cv=10,scoring='log_loss')\n",
    "\n"
   ]
  },
  {
   "cell_type": "code",
   "execution_count": 36,
   "metadata": {
    "collapsed": false
   },
   "outputs": [],
   "source": [
    "clf5.fit(X_train, y_train)                         \n",
    "clf6.fit(X_train, y_train)                         \n",
    "clf7.fit(X_train, y_train)                         \n",
    "\n",
    "scores5_accuracy=cross_val_score(clf5,X_test,y_test,cv=10,scoring='accuracy')\n",
    "scores6_accuracy=cross_val_score(clf6,X_test,y_test,cv=10,scoring='accuracy')\n",
    "scores7_accuracy=cross_val_score(clf7,X_test,y_test,cv=10,scoring='accuracy')\n",
    "scores8_accuracy=cross_val_score(clf8,X_test,y_test,cv=10,scoring='accuracy')\n",
    "scores9_accuracy=cross_val_score(clf9,X_test,y_test,cv=10,scoring='accuracy')\n",
    "\n",
    "scores5_log_loss=cross_val_score(clf5,X_test,y_test,cv=10,scoring='log_loss')\n",
    "scores6_log_loss=cross_val_score(clf6,X_test,y_test,cv=10,scoring='log_loss')\n",
    "scores7_log_loss=cross_val_score(clf7,X_test,y_test,cv=10,scoring='log_loss')\n",
    "scores8_log_loss=cross_val_score(clf8,X_test,y_test,cv=10,scoring='log_loss')\n",
    "scores9_log_loss=cross_val_score(clf9,X_test,y_test,cv=10,scoring='log_loss')\n"
   ]
  },
  {
   "cell_type": "code",
   "execution_count": 29,
   "metadata": {
    "collapsed": false
   },
   "outputs": [
    {
     "name": "stdout",
     "output_type": "stream",
     "text": [
      "Neural Networks with different parameters\n"
     ]
    },
    {
     "data": {
      "text/html": [
       "<iframe id=\"igraph\" scrolling=\"no\" style=\"border:none;\" seamless=\"seamless\" src=\"https://plot.ly/~irifiki/20.embed\" height=\"350px\" width=\"100%\"></iframe>"
      ],
      "text/plain": [
       "<plotly.tools.PlotlyDisplay object>"
      ]
     },
     "execution_count": 29,
     "metadata": {},
     "output_type": "execute_result"
    }
   ],
   "source": [
    "print (\"Neural Networks with different parameters\")\n",
    "data_matrix = [['Hidden Layer', 'Activation', 'Learning Rate','Solver','Accuracy','Log Loss'],\n",
    "              [clf1.get_params()['hidden_layer_sizes'], clf1.get_params()['activation'], clf1.get_params()['learning_rate'],clf1.get_params()['solver'],\"%0.5f\"%np.mean(scores1_accuracy),\"%0.5f\"%np.mean(scores1_log_loss)],\n",
    "               [clf2.get_params()['hidden_layer_sizes'], clf2.get_params()['activation'], clf2.get_params()['learning_rate'],clf2.get_params()['solver'],\"%0.5f\"%np.mean(scores2_accuracy),\"%0.5f\"%np.mean(scores2_log_loss)],\n",
    "               [clf3.get_params()['hidden_layer_sizes'], clf3.get_params()['activation'], clf3.get_params()['learning_rate'],clf3.get_params()['solver'],\"%0.5f\"%np.mean(scores3_accuracy),\"%0.5f\"%np.mean(scores3_log_loss)],\n",
    "               [clf4.get_params()['hidden_layer_sizes'], clf4.get_params()['activation'], clf4.get_params()['learning_rate'],clf4.get_params()['solver'],\"%0.5f\"%np.mean(scores4_accuracy),\"%0.5f\"%np.mean(scores4_log_loss)],\n",
    "               [clf5.get_params()['hidden_layer_sizes'], clf5.get_params()['activation'], clf5.get_params()['learning_rate'],clf5.get_params()['solver'],\"%0.5f\"%np.mean(scores5_accuracy),\"%0.5f\"%np.mean(scores5_log_loss)],\n",
    "               [clf6.get_params()['hidden_layer_sizes'], clf6.get_params()['activation'], clf6.get_params()['learning_rate'],clf6.get_params()['solver'],\"%0.5f\"%np.mean(scores6_accuracy),\"%0.5f\"%np.mean(scores6_log_loss)],\n",
    "              [clf7.get_params()['hidden_layer_sizes'], clf7.get_params()['activation'], clf7.get_params()['learning_rate'],clf7.get_params()['solver'],\"%0.5f\"%np.mean(scores7_accuracy),\"%0.5f\"%np.mean(scores7_log_loss)],\n",
    "              [clf8.get_params()['hidden_layer_sizes'], clf8.get_params()['activation'], clf8.get_params()['learning_rate'],clf8.get_params()['solver'],\"%0.5f\"%np.mean(scores8_accuracy),\"%0.5f\"%np.mean(scores8_log_loss)],\n",
    "              [clf9.get_params()['hidden_layer_sizes'], clf9.get_params()['activation'], clf9.get_params()['learning_rate'],clf9.get_params()['solver'],\"%0.5f\"%np.mean(scores9_accuracy),\"%0.5f\"%np.mean(scores9_log_loss)]\n",
    "              ]\n",
    "table = FF.create_table(data_matrix)\n",
    "py.iplot(table)"
   ]
  },
  {
   "cell_type": "markdown",
   "metadata": {
    "collapsed": true
   },
   "source": [
    "# Baselines"
   ]
  },
  {
   "cell_type": "markdown",
   "metadata": {},
   "source": [
    "Most Frequent"
   ]
  },
  {
   "cell_type": "code",
   "execution_count": 38,
   "metadata": {
    "collapsed": false
   },
   "outputs": [
    {
     "name": "stdout",
     "output_type": "stream",
     "text": [
      "Most Frequent - Accuracy\n",
      "0.297046322743\n",
      "Uniform - Accuracy\n",
      "0.265578733634\n"
     ]
    }
   ],
   "source": [
    "from sklearn.dummy import DummyClassifier\n",
    "from sklearn.model_selection import cross_val_score\n",
    "\n",
    "clf_most_frequent=DummyClassifier(strategy='most_frequent')\n",
    "clf_most_frequent.fit(X_train,y_train)\n",
    "scores_most_frequent=cross_val_score(clf_most_frequent,X_test,y_test,cv=10,scoring='accuracy')\n",
    "print(\"Most Frequent - Accuracy\")\n",
    "print(np.mean(scores_most_frequent))\n",
    "\n",
    "clf_uniform=DummyClassifier(strategy='uniform')\n",
    "clf_uniform.fit(X_train,y_train)\n",
    "scores_uniform=cross_val_score(clf_uniform,X_test,y_test,cv=10,scoring='accuracy')\n",
    "print(\"Uniform - Accuracy\")\n",
    "print(np.mean(scores_uniform))"
   ]
  },
  {
   "cell_type": "markdown",
   "metadata": {},
   "source": [
    "# Important Features"
   ]
  },
  {
   "cell_type": "code",
   "execution_count": 32,
   "metadata": {
    "collapsed": false
   },
   "outputs": [
    {
     "name": "stdout",
     "output_type": "stream",
     "text": [
      "New Shape\n",
      "(2530, 4)\n"
     ]
    }
   ],
   "source": [
    "X_0=X\n",
    "X_1=X\n",
    "X_2=X\n",
    "X_3=X\n",
    "X_4=X\n",
    "\n",
    "X_0 = np.delete(X_0,(0),axis=1)\n",
    "X_1 = np.delete(X_1,(1),axis=1)\n",
    "X_2 = np.delete(X_2,(2),axis=1)\n",
    "X_3 = np.delete(X_3,(3),axis=1)\n",
    "X_4 = np.delete(X_4,(4),axis=1)\n",
    "print(\"New Shape\")\n",
    "print(X_0.shape)"
   ]
  },
  {
   "cell_type": "code",
   "execution_count": 34,
   "metadata": {
    "collapsed": false,
    "scrolled": false
   },
   "outputs": [
    {
     "name": "stdout",
     "output_type": "stream",
     "text": [
      "KNN - with best parameters\n",
      "0.540543786026\n",
      "Neural Network - with best parameters\n",
      "0.526410923288\n",
      "KNN - with best parameters\n",
      "0.540543786026\n",
      "Neural Network - with best parameters\n",
      "0.532735288703\n",
      "KNN - with best parameters\n",
      "0.486712451589\n",
      "Neural Network - with best parameters\n",
      "0.510911033943\n",
      "KNN - with best parameters\n",
      "0.540543786026\n",
      "Neural Network - with best parameters\n",
      "0.521548935853\n",
      "KNN - with best parameters\n",
      "0.540543786026\n",
      "Neural Network - with best parameters\n",
      "0.514713864764\n",
      "Important features for KNN\n"
     ]
    },
    {
     "data": {
      "text/html": [
       "<iframe id=\"igraph\" scrolling=\"no\" style=\"border:none;\" seamless=\"seamless\" src=\"https://plot.ly/~irifiki/22.embed\" height=\"260px\" width=\"100%\"></iframe>"
      ],
      "text/plain": [
       "<plotly.tools.PlotlyDisplay object>"
      ]
     },
     "execution_count": 34,
     "metadata": {},
     "output_type": "execute_result"
    }
   ],
   "source": [
    "#Removing Chromogram - Pitch\n",
    "\n",
    "X_train0, X_test0, y_train0, y_test0 = train_test_split(X_0, Y, test_size=0.25, random_state=1)\n",
    "\n",
    "print(\"KNN - with best parameters\")\n",
    "knn_new0 = KNeighborsClassifier(n_neighbors=42)\n",
    "knn_new0.fit(X_train0, y_train0) \n",
    "scores_new_knn0=cross_val_score(knn_new0,X_test0,y_test0,cv=10,scoring='accuracy')\n",
    "print(np.mean(scores_new_knn0))\n",
    "\n",
    "print(\"Neural Network - with best parameters\")\n",
    "\n",
    "clf_new0=MLPClassifier(hidden_layer_sizes=(500, 5), \n",
    "                  activation='logistic',random_state=1, learning_rate='constant',solver='adam',max_iter=999)\n",
    "clf_new0.fit(X_train0, y_train0)                         \n",
    "\n",
    "scores_new_neural0=cross_val_score(clf_new0,X_test0,y_test0,cv=10,scoring='accuracy')\n",
    "print(np.mean(scores_new_neural0))\n",
    "\n",
    "#Removing RMS - Root Mean Square Energey\n",
    "\n",
    "X_train1, X_test1, y_train1, y_test1 = train_test_split(X_1, Y, test_size=0.25, random_state=1)\n",
    "\n",
    "print(\"KNN - with best parameters\")\n",
    "knn_new1 = KNeighborsClassifier(n_neighbors=42)\n",
    "knn_new1.fit(X_train1, y_train1) \n",
    "scores_new_knn1=cross_val_score(knn_new1,X_test1,y_test1,cv=10,scoring='accuracy')\n",
    "print(np.mean(scores_new_knn1))\n",
    "\n",
    "print(\"Neural Network - with best parameters\")\n",
    "\n",
    "clf_new1=MLPClassifier(hidden_layer_sizes=(500, 5), \n",
    "                  activation='logistic',random_state=1, learning_rate='constant',solver='adam',max_iter=999)\n",
    "clf_new1.fit(X_train1, y_train1)                         \n",
    "scores_new_neural1=cross_val_score(clf_new1,X_test1,y_test1,cv=10,scoring='accuracy')\n",
    "\n",
    "print(np.mean(scores_new_neural1))\n",
    "\n",
    "#Removing Roll-Off\n",
    "\n",
    "X_train2, X_test2, y_train2, y_test2 = train_test_split(X_2, Y, test_size=0.25, random_state=1)\n",
    "\n",
    "print(\"KNN - with best parameters\")\n",
    "knn_new2 = KNeighborsClassifier(n_neighbors=42)\n",
    "knn_new2.fit(X_train2, y_train2) \n",
    "scores_new_knn2=cross_val_score(knn_new2,X_test2,y_test2,cv=10,scoring='accuracy')\n",
    "print(np.mean(scores_new_knn2))\n",
    "\n",
    "print(\"Neural Network - with best parameters\")\n",
    "\n",
    "clf_new2=MLPClassifier(hidden_layer_sizes=(500, 5), \n",
    "                  activation='logistic',random_state=1, learning_rate='constant',solver='adam',max_iter=999)\n",
    "clf_new2.fit(X_train2, y_train2)                         \n",
    "\n",
    "scores_new_neural2=cross_val_score(clf_new2,X_test2,y_test2,cv=10,scoring='accuracy')\n",
    "print(np.mean(scores_new_neural2))\n",
    "\n",
    "#Removing Zero Crossing Rate\n",
    "\n",
    "X_train3, X_test3, y_train3, y_test3 = train_test_split(X_3, Y, test_size=0.25, random_state=1)\n",
    "\n",
    "print(\"KNN - with best parameters\")\n",
    "knn_new3 = KNeighborsClassifier(n_neighbors=42)\n",
    "knn_new3.fit(X_train3, y_train3) \n",
    "scores_new_knn3=cross_val_score(knn_new3,X_test3,y_test3,cv=10,scoring='accuracy')\n",
    "print(np.mean(scores_new_knn3))\n",
    "\n",
    "print(\"Neural Network - with best parameters\")\n",
    "\n",
    "clf_new3=MLPClassifier(hidden_layer_sizes=(500, 5), \n",
    "                  activation='logistic',random_state=1, learning_rate='constant',solver='adam',max_iter=999)\n",
    "clf_new3.fit(X_train3, y_train3)                         \n",
    "\n",
    "scores_new_neural3=cross_val_score(clf_new3,X_test3,y_test3,cv=10,scoring='accuracy')\n",
    "print(np.mean(scores_new_neural3))\n",
    "\n",
    "#Removing Tempo\n",
    "\n",
    "X_train4, X_test4, y_train4, y_test4 = train_test_split(X_4, Y, test_size=0.25, random_state=1)\n",
    "\n",
    "print(\"KNN - with best parameters\")\n",
    "knn_new4 = KNeighborsClassifier(n_neighbors=42)\n",
    "knn_new4.fit(X_train4, y_train4) \n",
    "scores_new_knn4=cross_val_score(knn_new4,X_test4,y_test4,cv=10,scoring='accuracy')\n",
    "print(np.mean(scores_new_knn4))\n",
    "\n",
    "print(\"Neural Network - with best parameters\")\n",
    "\n",
    "clf_new4=MLPClassifier(hidden_layer_sizes=(500, 5), \n",
    "                  activation='logistic',random_state=1, learning_rate='constant',solver='adam',max_iter=999)\n",
    "clf_new4.fit(X_train4, y_train4)                         \n",
    "\n",
    "scores_new_neural4=cross_val_score(clf_new4,X_test4,y_test4,cv=10,scoring='accuracy')\n",
    "print(np.mean(scores_new_neural4))\n",
    "\n",
    "print(\"Important features for KNN\")\n",
    "data_matrix = [['Features','Accuracy'],\n",
    "               ['With all the Features',np.mean(scores_knn8)],\n",
    "               ['Removing Chromogram-Pitch',np.mean(scores_new_knn0)],['Removing RMS',np.mean(scores_new_knn1)],['Removing Roll Off',np.mean(scores_new_knn2)],\n",
    "               ['Removing Zero Crossing Rate',np.mean(scores_new_knn3)],['Removing Tempo',np.mean(scores_new_knn4)]\n",
    "               ]\n",
    "\n",
    "table = FF.create_table(data_matrix)\n",
    "data_matrix2 = [['Features','Accuracy'],\n",
    "               ['With all the Features',np.mean(scores8_accuracy)],\n",
    "               ['Removing Chromogram-Pitch',np.mean(scores_new_neural0)],['Removing RMS',np.mean(scores_new_neural1)],['Removing Roll Off',np.mean(scores_new_neural2)],\n",
    "               ['Removing Zero Crossing Rate',np.mean(scores_new_neural3)],['Removing Tempo',np.mean(scores_new_neural4)]\n",
    "               ]\n",
    "\n",
    "table2 = FF.create_table(data_matrix2)\n",
    "py.iplot(table)\n"
   ]
  },
  {
   "cell_type": "markdown",
   "metadata": {},
   "source": [
    "The most important feature for KNN : Roll Off"
   ]
  },
  {
   "cell_type": "code",
   "execution_count": 35,
   "metadata": {
    "collapsed": false
   },
   "outputs": [
    {
     "name": "stdout",
     "output_type": "stream",
     "text": [
      "Important features for Neural Networks\n"
     ]
    },
    {
     "data": {
      "text/html": [
       "<iframe id=\"igraph\" scrolling=\"no\" style=\"border:none;\" seamless=\"seamless\" src=\"https://plot.ly/~irifiki/24.embed\" height=\"260px\" width=\"100%\"></iframe>"
      ],
      "text/plain": [
       "<plotly.tools.PlotlyDisplay object>"
      ]
     },
     "execution_count": 35,
     "metadata": {},
     "output_type": "execute_result"
    }
   ],
   "source": [
    "print(\"Important features for Neural Networks\")\n",
    "\n",
    "py.iplot(table2)"
   ]
  },
  {
   "cell_type": "markdown",
   "metadata": {},
   "source": [
    "The most important features of Neural Networks : Roll Off and Tempo "
   ]
  },
  {
   "cell_type": "markdown",
   "metadata": {},
   "source": [
    "Negative Features for Neural Network : Pitch and RMS and Zero Crossing Rate"
   ]
  },
  {
   "cell_type": "code",
   "execution_count": null,
   "metadata": {
    "collapsed": true
   },
   "outputs": [],
   "source": []
  }
 ],
 "metadata": {
  "anaconda-cloud": {},
  "kernelspec": {
   "display_name": "Python [Root]",
   "language": "python",
   "name": "Python [Root]"
  },
  "language_info": {
   "codemirror_mode": {
    "name": "ipython",
    "version": 3
   },
   "file_extension": ".py",
   "mimetype": "text/x-python",
   "name": "python",
   "nbconvert_exporter": "python",
   "pygments_lexer": "ipython3",
   "version": "3.5.2"
  }
 },
 "nbformat": 4,
 "nbformat_minor": 0
}
